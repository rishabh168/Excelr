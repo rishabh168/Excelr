{
 "cells": [
  {
   "cell_type": "code",
   "execution_count": 33,
   "id": "b94cd079-602a-4f58-ae85-4a952fba50c8",
   "metadata": {},
   "outputs": [
    {
     "name": "stdin",
     "output_type": "stream",
     "text": [
      "Enter a number to check if it's prime:  29\n"
     ]
    },
    {
     "name": "stdout",
     "output_type": "stream",
     "text": [
      "29 is a prime number.\n"
     ]
    }
   ],
   "source": [
    "\n",
    "# The function is_prime starts by checking if the number is less than or equal to 1.\n",
    "# If so, it returns False because numbers less than or equal to 1 are not prime by definition\n",
    "def is_prime(number):\n",
    "    if number <= 1:\n",
    "        return False\n",
    "    for i in range(2, int(number ** 0.5) + 1):\n",
    "        # If any number in the range divides the given number with no remainder (number % i == 0), then the number is not prime, and the function returns False.\n",
    "        # And if no divisor is found then the function returns true indicate the number is prime.\n",
    "        if number % i == 0:\n",
    "            return False\n",
    "    return True\n",
    "\n",
    "# Test the function\n",
    "num = int(input(\"Enter a number to check if it's prime: \"))\n",
    "if is_prime(num):\n",
    "    print(f\"{num} is a prime number.\")\n",
    "else:\n",
    "    print(f\"{num} is not a prime number.\")"
   ]
  },
  {
   "cell_type": "code",
   "execution_count": 31,
   "id": "bc23c87b-d6de-4c6b-816a-4f08fdab3a46",
   "metadata": {},
   "outputs": [
    {
     "name": "stdin",
     "output_type": "stream",
     "text": [
      "What is the product of 6 and 9?  54\n"
     ]
    },
    {
     "name": "stdout",
     "output_type": "stream",
     "text": [
      "Correct! Well done.\n"
     ]
    }
   ],
   "source": [
    "# The random.randint(1,10) function generates random integers between 1 to 10\n",
    "import random\n",
    "def multiplication_quiz():\n",
    "    # Generate two random numbers between 1 and 10\n",
    "    num1 = random.randint(1, 10)\n",
    "    num2 = random.randint(1, 10)\n",
    "\n",
    "    # Calculate the product of the two numbers\n",
    "    correct_answer = num1 * num2\n",
    "\n",
    "    # Ask the user to enter the product\n",
    "    user_answer = int(input(f\"What is the product of {num1} and {num2}? \"))\n",
    "\n",
    "    # Check if the user's answer is correct\n",
    "    if user_answer == correct_answer:\n",
    "        print(\"Correct! Well done.\")\n",
    "    else:\n",
    "        print(f\"Incorrect. The correct answer is {correct_answer}.\")\n",
    "\n",
    "# Run the quiz\n",
    "multiplication_quiz()"
   ]
  },
  {
   "cell_type": "code",
   "execution_count": 28,
   "id": "44d9359b-391a-4a2c-975a-da4de142c784",
   "metadata": {},
   "outputs": [
    {
     "name": "stdout",
     "output_type": "stream",
     "text": [
      "The square of 101 is 10201\n",
      "The square of 103 is 10609\n",
      "The square of 105 is 11025\n",
      "The square of 107 is 11449\n",
      "The square of 109 is 11881\n",
      "The square of 111 is 12321\n",
      "The square of 113 is 12769\n",
      "The square of 115 is 13225\n",
      "The square of 117 is 13689\n",
      "The square of 119 is 14161\n",
      "The square of 121 is 14641\n",
      "The square of 123 is 15129\n",
      "The square of 125 is 15625\n",
      "The square of 127 is 16129\n",
      "The square of 129 is 16641\n",
      "The square of 131 is 17161\n",
      "The square of 133 is 17689\n",
      "The square of 135 is 18225\n",
      "The square of 137 is 18769\n",
      "The square of 139 is 19321\n",
      "The square of 141 is 19881\n",
      "The square of 143 is 20449\n",
      "The square of 145 is 21025\n",
      "The square of 147 is 21609\n",
      "The square of 149 is 22201\n",
      "The square of 151 is 22801\n",
      "The square of 153 is 23409\n",
      "The square of 155 is 24025\n",
      "The square of 157 is 24649\n",
      "The square of 159 is 25281\n",
      "The square of 161 is 25921\n",
      "The square of 163 is 26569\n",
      "The square of 165 is 27225\n",
      "The square of 167 is 27889\n",
      "The square of 169 is 28561\n",
      "The square of 171 is 29241\n",
      "The square of 173 is 29929\n",
      "The square of 175 is 30625\n",
      "The square of 177 is 31329\n",
      "The square of 179 is 32041\n",
      "The square of 181 is 32761\n",
      "The square of 183 is 33489\n",
      "The square of 185 is 34225\n",
      "The square of 187 is 34969\n",
      "The square of 189 is 35721\n",
      "The square of 191 is 36481\n",
      "The square of 193 is 37249\n",
      "The square of 195 is 38025\n",
      "The square of 197 is 38809\n",
      "The square of 199 is 39601\n"
     ]
    }
   ],
   "source": [
    "# This script prints the squares of all odd numbers within the range of 100 to 200.\n",
    "# Define the range\n",
    "start = 100\n",
    "end = 200\n",
    "\n",
    "# Iterate through the range\n",
    "for number in range(start, end):\n",
    "    # Check if the number is odd\n",
    "    if number % 2 != 0:\n",
    "        # Calculate the square of the odd number\n",
    "        square = number ** 2\n",
    "        # Print the number and its square\n",
    "        print(f\"The square of {number} is {square}\")"
   ]
  },
  {
   "cell_type": "code",
   "execution_count": 29,
   "id": "9cfbc79c-85d7-4c83-b80b-7de4e0ab1f22",
   "metadata": {},
   "outputs": [
    {
     "name": "stdout",
     "output_type": "stream",
     "text": [
      "'This': 2\n",
      "'is': 1\n",
      "'a': 1\n",
      "'sample': 1\n",
      "'text.': 1\n",
      "'text': 1\n",
      "'will': 1\n",
      "'be': 1\n",
      "'used': 1\n",
      "'to': 1\n",
      "'demonstrate': 1\n",
      "'the': 1\n",
      "'word': 1\n",
      "'counter.': 1\n"
     ]
    }
   ],
   "source": [
    "def count_words(input_text):\n",
    "    # The input_text.split() method splits the input string into a list of words based on whitespace\n",
    "    # Split the input text into words\n",
    "    words = input_text.split()\n",
    "\n",
    "    # Create an empty dictionary to store the word counts\n",
    "    word_counts = {}\n",
    "\n",
    "    # Iterate through the words\n",
    "    for word in words:\n",
    "        # Check if the word is already in the dictionary\n",
    "        if word in word_counts:\n",
    "            # Increment the count of the word\n",
    "            word_counts[word] += 1\n",
    "        else:\n",
    "            # Add the word to the dictionary with a count of 1\n",
    "            word_counts[word] = 1\n",
    "\n",
    "    # Print the word counts\n",
    "    for word, count in word_counts.items():\n",
    "        print(f\"'{word}': {count}\")\n",
    "\n",
    "# Example usage\n",
    "input_text = \"This is a sample text. This text will be used to demonstrate the word counter.\"\n",
    "count_words(input_text)"
   ]
  },
  {
   "cell_type": "code",
   "execution_count": 30,
   "id": "cebfab8e-f373-463b-b180-5c32fc857668",
   "metadata": {},
   "outputs": [
    {
     "name": "stdout",
     "output_type": "stream",
     "text": [
      "True\n",
      "True\n",
      "False\n"
     ]
    }
   ],
   "source": [
    "# The string module is imported to access a predefined list of punctuation characters\n",
    "import string\n",
    "\n",
    "def is_palindrome(s):\n",
    "    # A translation table is created using str.maketrans to remove all punctuation characters\n",
    "    # Remove all spaces and punctuation, and convert to lowercase\n",
    "    translator = str.maketrans('', '', string.punctuation)\n",
    "    cleaned_s = s.translate(translator).replace(\" \", \"\").lower()\n",
    "    \n",
    "    # Check if the cleaned string is equal to its reverse\n",
    "    return cleaned_s == cleaned_s[::-1]\n",
    "\n",
    "# Example usage\n",
    "input_str = \"racecar\"\n",
    "print(is_palindrome(input_str))  # Expected output: True\n",
    "\n",
    "input_str = \"A man, a plan, a canal, Panama\"\n",
    "print(is_palindrome(input_str))  # Expected output: True\n",
    "\n",
    "input_str = \"Hello, World!\"\n",
    "print(is_palindrome(input_str))  # Expected output: False\n"
   ]
  },
  {
   "cell_type": "code",
   "execution_count": null,
   "id": "4241e70e-3f11-4c34-b13f-213d6f9a02c8",
   "metadata": {},
   "outputs": [],
   "source": []
  }
 ],
 "metadata": {
  "kernelspec": {
   "display_name": "Python 3 (ipykernel)",
   "language": "python",
   "name": "python3"
  },
  "language_info": {
   "codemirror_mode": {
    "name": "ipython",
    "version": 3
   },
   "file_extension": ".py",
   "mimetype": "text/x-python",
   "name": "python",
   "nbconvert_exporter": "python",
   "pygments_lexer": "ipython3",
   "version": "3.11.7"
  }
 },
 "nbformat": 4,
 "nbformat_minor": 5
}

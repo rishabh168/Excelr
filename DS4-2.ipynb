{
 "cells": [
  {
   "cell_type": "code",
   "execution_count": 1,
   "id": "8f939f3b-a99e-4d53-9fcf-f48e24ffa47c",
   "metadata": {},
   "outputs": [
    {
     "name": "stdout",
     "output_type": "stream",
     "text": [
      "Sample Mean Weekly Cost: Rs. 3050\n",
      "Theoretical Weekly Cost: Rs. 4000\n",
      "Sample Standard Deviation: 125.00\n",
      "Sample Size: 25\n",
      "Test Statistic (t): -38.0000\n",
      "Critical Value (Z) at alpha=0.05: 1.6449\n",
      "Reject Null Hypothesis: False\n",
      "Conclusion: There is not enough evidence to support the restaurant owners' claim that the weekly operating costs are higher than the model suggests.\n"
     ]
    }
   ],
   "source": [
    "import scipy.stats as stats\n",
    "import math\n",
    "\n",
    "# Given data\n",
    "sample_mean_weekly_cost = 3050  # Rs. 3050\n",
    "theoretical_units_produced = 600  # units\n",
    "unit_cost_std_dev = 25  # standard deviation of units produced\n",
    "sample_size = 25  # sample size\n",
    "\n",
    "# Theoretical weekly operating cost\n",
    "theoretical_weekly_cost = 1000 + 5 * theoretical_units_produced\n",
    "\n",
    "# Calculate the standard deviation of the sample mean\n",
    "sample_std_dev = 5 * unit_cost_std_dev\n",
    "\n",
    "# Step 1: State the Hypotheses\n",
    "# H0: μ = theoretical_weekly_cost (The weekly operating cost is as per the model)\n",
    "# H1: μ > theoretical_weekly_cost (The weekly operating cost is higher than the model)\n",
    "\n",
    "# Step 2: Calculate the Test Statistic\n",
    "# Using the formula for the t-statistic for a one-sample t-test:\n",
    "# t = (ˉx - μ) / (σ / √n)\n",
    "t_statistic = (sample_mean_weekly_cost - theoretical_weekly_cost) / (sample_std_dev / math.sqrt(sample_size))\n",
    "\n",
    "# Step 3: Determine the Critical Value\n",
    "alpha = 0.05\n",
    "critical_value = stats.norm.ppf(1 - alpha)\n",
    "\n",
    "# Step 4: Make a Decision\n",
    "reject_null = t_statistic > critical_value\n",
    "\n",
    "# Print results\n",
    "print(f\"Sample Mean Weekly Cost: Rs. {sample_mean_weekly_cost}\")\n",
    "print(f\"Theoretical Weekly Cost: Rs. {theoretical_weekly_cost}\")\n",
    "print(f\"Sample Standard Deviation: {sample_std_dev:.2f}\")\n",
    "print(f\"Sample Size: {sample_size}\")\n",
    "print(f\"Test Statistic (t): {t_statistic:.4f}\")\n",
    "print(f\"Critical Value (Z) at alpha={alpha}: {critical_value:.4f}\")\n",
    "print(f\"Reject Null Hypothesis: {reject_null}\")\n",
    "\n",
    "# Step 5: Conclusion\n",
    "if reject_null:\n",
    "    print(\"Conclusion: There is strong evidence to support the restaurant owners' claim that the weekly operating costs are higher than the model suggests.\")\n",
    "else:\n",
    "    print(\"Conclusion: There is not enough evidence to support the restaurant owners' claim that the weekly operating costs are higher than the model suggests.\")"
   ]
  },
  {
   "cell_type": "code",
   "execution_count": null,
   "id": "964ed768-c648-4f8a-9953-fb9371247a37",
   "metadata": {},
   "outputs": [],
   "source": []
  }
 ],
 "metadata": {
  "kernelspec": {
   "display_name": "Python 3 (ipykernel)",
   "language": "python",
   "name": "python3"
  },
  "language_info": {
   "codemirror_mode": {
    "name": "ipython",
    "version": 3
   },
   "file_extension": ".py",
   "mimetype": "text/x-python",
   "name": "python",
   "nbconvert_exporter": "python",
   "pygments_lexer": "ipython3",
   "version": "3.11.7"
  }
 },
 "nbformat": 4,
 "nbformat_minor": 5
}

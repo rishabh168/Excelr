{
 "cells": [
  {
   "cell_type": "code",
   "execution_count": 1,
   "id": "d99f3ee6-5d81-406a-aefb-3b83b42568f4",
   "metadata": {},
   "outputs": [
    {
     "name": "stdout",
     "output_type": "stream",
     "text": [
      "Chi-Square Statistic: 5.6382\n",
      "Degrees of Freedom: 4\n",
      "Critical Value at alpha=0.05: 9.4877\n",
      "P-Value: 0.2278\n",
      "Expected Frequencies: \n",
      "[[ 48.  72.]\n",
      " [ 72. 108.]\n",
      " [ 60.  90.]\n",
      " [ 32.  48.]\n",
      " [ 28.  42.]]\n",
      "Reject Null Hypothesis: False\n",
      "Conclusion: There is no significant association between the type of device and customer satisfaction level.\n"
     ]
    }
   ],
   "source": [
    "import numpy as np\n",
    "import scipy.stats as stats\n",
    "\n",
    "# Data\n",
    "observed = np.array([\n",
    "    [50, 70],\n",
    "    [80, 100],\n",
    "    [60, 90],\n",
    "    [30, 50],\n",
    "    [20, 50]\n",
    "])\n",
    "\n",
    "# Step 1: State the Hypotheses\n",
    "# H0: There is no significant association between the type of device and customer satisfaction level.\n",
    "# H1: There is a significant association between the type of device and customer satisfaction level.\n",
    "\n",
    "# Step 2: Compute the Chi-Square Statistic\n",
    "chi2, p, dof, expected = stats.chi2_contingency(observed)\n",
    "\n",
    "# Step 3: Determine the Critical Value\n",
    "alpha = 0.05\n",
    "critical_value = stats.chi2.ppf(1 - alpha, dof)\n",
    "\n",
    "# Step 4: Make a Decision\n",
    "reject_null = chi2 > critical_value\n",
    "\n",
    "# Print results\n",
    "print(f\"Chi-Square Statistic: {chi2:.4f}\")\n",
    "print(f\"Degrees of Freedom: {dof}\")\n",
    "print(f\"Critical Value at alpha={alpha}: {critical_value:.4f}\")\n",
    "print(f\"P-Value: {p:.4f}\")\n",
    "print(f\"Expected Frequencies: \\n{expected}\")\n",
    "print(f\"Reject Null Hypothesis: {reject_null}\")\n",
    "\n",
    "if reject_null:\n",
    "    print(\"Conclusion: There is a significant association between the type of device and customer satisfaction level.\")\n",
    "else:\n",
    "    print(\"Conclusion: There is no significant association between the type of device and customer satisfaction level.\")\n"
   ]
  },
  {
   "cell_type": "code",
   "execution_count": null,
   "id": "d08d10b4-5dbe-4ce4-84d6-665106e2573b",
   "metadata": {},
   "outputs": [],
   "source": []
  }
 ],
 "metadata": {
  "kernelspec": {
   "display_name": "Python 3 (ipykernel)",
   "language": "python",
   "name": "python3"
  },
  "language_info": {
   "codemirror_mode": {
    "name": "ipython",
    "version": 3
   },
   "file_extension": ".py",
   "mimetype": "text/x-python",
   "name": "python",
   "nbconvert_exporter": "python",
   "pygments_lexer": "ipython3",
   "version": "3.11.7"
  }
 },
 "nbformat": 4,
 "nbformat_minor": 5
}

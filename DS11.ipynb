{
 "cells": [
  {
   "cell_type": "code",
   "execution_count": 34,
   "id": "2bfdfcf6-6350-44ea-a50c-42ce8d36171f",
   "metadata": {},
   "outputs": [],
   "source": [
    "import pandas as pd\n",
    "from sklearn.metrics.pairwise import cosine_similarity\n",
    "from sklearn.feature_extraction.text import CountVectorizer\n",
    "from sklearn.preprocessing import StandardScaler\n",
    "import warnings\n",
    "\n",
    "# Suppress deprecation warnings\n",
    "warnings.filterwarnings(\"ignore\", category=DeprecationWarning)\n",
    "# Load the dataset\n",
    "anime_df = pd.read_csv('D:/Data science ass/11/Recommendation System/anime.csv')\n"
   ]
  },
  {
   "cell_type": "code",
   "execution_count": 35,
   "id": "18d1ec80-b30a-40b5-bd68-5cd369e467d6",
   "metadata": {},
   "outputs": [
    {
     "name": "stdout",
     "output_type": "stream",
     "text": [
      "   anime_id                              name  \\\n",
      "0     32281                    Kimi no Na wa.   \n",
      "1      5114  Fullmetal Alchemist: Brotherhood   \n",
      "2     28977                          Gintama°   \n",
      "3      9253                       Steins;Gate   \n",
      "4      9969                     Gintama&#039;   \n",
      "\n",
      "                                               genre   type episodes  rating  \\\n",
      "0               Drama, Romance, School, Supernatural  Movie        1    9.37   \n",
      "1  Action, Adventure, Drama, Fantasy, Magic, Mili...     TV       64    9.26   \n",
      "2  Action, Comedy, Historical, Parody, Samurai, S...     TV       51    9.25   \n",
      "3                                   Sci-Fi, Thriller     TV       24    9.17   \n",
      "4  Action, Comedy, Historical, Parody, Samurai, S...     TV       51    9.16   \n",
      "\n",
      "   members  \n",
      "0   200630  \n",
      "1   793665  \n",
      "2   114262  \n",
      "3   673572  \n",
      "4   151266  \n",
      "<class 'pandas.core.frame.DataFrame'>\n",
      "Index: 12017 entries, 0 to 12293\n",
      "Data columns (total 7 columns):\n",
      " #   Column    Non-Null Count  Dtype  \n",
      "---  ------    --------------  -----  \n",
      " 0   anime_id  12017 non-null  int64  \n",
      " 1   name      12017 non-null  object \n",
      " 2   genre     12017 non-null  object \n",
      " 3   type      12017 non-null  object \n",
      " 4   episodes  12017 non-null  object \n",
      " 5   rating    12017 non-null  float64\n",
      " 6   members   12017 non-null  int64  \n",
      "dtypes: float64(1), int64(2), object(4)\n",
      "memory usage: 751.1+ KB\n",
      "None\n"
     ]
    }
   ],
   "source": [
    "# Handling missing values (if any)\n",
    "anime_df = anime_df.dropna()\n",
    "\n",
    "# Inspect the data\n",
    "print(anime_df.head())\n",
    "print(anime_df.info())\n"
   ]
  },
  {
   "cell_type": "code",
   "execution_count": 36,
   "id": "cbbb18d1-fe38-4e0a-8358-cb870f363106",
   "metadata": {},
   "outputs": [],
   "source": [
    "anime_df['genre_str'] = anime_df['genre'].apply(lambda x: ' '.join(x.lower().split(',')))\n",
    "\n",
    "# Vectorize the genre strings\n",
    "vectorizer = CountVectorizer()\n",
    "genre_matrix = vectorizer.fit_transform(anime_df['genre_str'])\n",
    "\n",
    "# Normalize the ratings\n",
    "# Replace 'rating' with the correct column name for average rating\n",
    "scaler = StandardScaler()\n",
    "normalized_ratings = scaler.fit_transform(anime_df[['rating']])\n",
    "\n",
    "# Combine the genre and normalized rating features\n",
    "features = pd.concat([pd.DataFrame(genre_matrix.toarray()), pd.DataFrame(normalized_ratings)], axis=1)\n",
    "\n",
    "# Compute cosine similarity\n",
    "cosine_sim = cosine_similarity(features)"
   ]
  },
  {
   "cell_type": "code",
   "execution_count": 38,
   "id": "f322858b-ba1e-486e-b691-a75b80f5d523",
   "metadata": {},
   "outputs": [
    {
     "name": "stdout",
     "output_type": "stream",
     "text": [
      "615                                    Naruto: Shippuuden\n",
      "1103    Boruto: Naruto the Movie - Naruto ga Hokage ni...\n",
      "486                              Boruto: Naruto the Movie\n",
      "1343                                          Naruto x UT\n",
      "1472          Naruto: Shippuuden Movie 4 - The Lost Tower\n",
      "1573    Naruto: Shippuuden Movie 3 - Hi no Ishi wo Tsu...\n",
      "2458                 Naruto Shippuuden: Sunny Side Battle\n",
      "2997    Naruto Soyokazeden Movie: Naruto to Mashin to ...\n",
      "206                                         Dragon Ball Z\n",
      "515                                Dragon Ball Kai (2014)\n",
      "Name: name, dtype: object\n"
     ]
    }
   ],
   "source": [
    "# Function to get recommendations\n",
    "def get_recommendations(title, cosine_sim=cosine_sim):\n",
    "    # Get the index of the anime that matches the title\n",
    "    idx = anime_df[anime_df['name'] == title].index[0]\n",
    "\n",
    "    # Get the pairwise similarity scores of all anime with that anime\n",
    "    sim_scores = list(enumerate(cosine_sim[idx]))\n",
    "\n",
    "    # Sort the anime based on the similarity scores\n",
    "    sim_scores = sorted(sim_scores, key=lambda x: x[1], reverse=True)\n",
    "\n",
    "    # Get the indices of the 10 most similar anime\n",
    "    anime_indices = [i[0] for i in sim_scores[1:11]]\n",
    "\n",
    "    # Return the top 10 most similar anime\n",
    "    return anime_df['name'].iloc[anime_indices]\n",
    "\n",
    "# Example usage\n",
    "recommendations = get_recommendations('Naruto')\n",
    "print(recommendations)"
   ]
  },
  {
   "cell_type": "code",
   "execution_count": null,
   "id": "99690d1d-fea7-4bc4-a135-ba31a0c51ba1",
   "metadata": {},
   "outputs": [],
   "source": []
  }
 ],
 "metadata": {
  "kernelspec": {
   "display_name": "Python 3 (ipykernel)",
   "language": "python",
   "name": "python3"
  },
  "language_info": {
   "codemirror_mode": {
    "name": "ipython",
    "version": 3
   },
   "file_extension": ".py",
   "mimetype": "text/x-python",
   "name": "python",
   "nbconvert_exporter": "python",
   "pygments_lexer": "ipython3",
   "version": "3.11.7"
  }
 },
 "nbformat": 4,
 "nbformat_minor": 5
}
